{
  "cells": [
    {
      "cell_type": "markdown",
      "metadata": {
        "id": "view-in-github",
        "colab_type": "text"
      },
      "source": [
        "<a href=\"https://colab.research.google.com/github/StalinSagolsem/testing/blob/main/testing_conf.ipynb\" target=\"_parent\"><img src=\"https://colab.research.google.com/assets/colab-badge.svg\" alt=\"Open In Colab\"/></a>"
      ]
    },
    {
      "cell_type": "code",
      "execution_count": null,
      "id": "bbfa7445-b1d6-407b-aa03-92a77a2ddd94",
      "metadata": {
        "id": "bbfa7445-b1d6-407b-aa03-92a77a2ddd94",
        "outputId": "864f8949-d9d9-4d8a-9986-8c50021324b6"
      },
      "outputs": [
        {
          "name": "stdout",
          "output_type": "stream",
          "text": [
            "WARNING:tensorflow:From C:\\Users\\sagol\\AppData\\Local\\Programs\\Python\\Python311\\Lib\\site-packages\\keras\\src\\losses.py:2976: The name tf.losses.sparse_softmax_cross_entropy is deprecated. Please use tf.compat.v1.losses.sparse_softmax_cross_entropy instead.\n",
            "\n"
          ]
        }
      ],
      "source": [
        "import numpy as np\n",
        "import matplotlib.pyplot as plt\n",
        "import seaborn as sns\n",
        "from sklearn.metrics import confusion_matrix\n",
        "from tensorflow.keras.models import load_model\n",
        "import librosa\n"
      ]
    },
    {
      "cell_type": "code",
      "execution_count": null,
      "id": "ddd89799-780c-48f1-a75c-aa55af0e8f9f",
      "metadata": {
        "id": "ddd89799-780c-48f1-a75c-aa55af0e8f9f",
        "outputId": "520a0562-b2f1-46b3-f838-90f19b6e2357"
      },
      "outputs": [
        {
          "name": "stdout",
          "output_type": "stream",
          "text": [
            "WARNING:tensorflow:From C:\\Users\\sagol\\AppData\\Local\\Programs\\Python\\Python311\\Lib\\site-packages\\keras\\src\\backend.py:1398: The name tf.executing_eagerly_outside_functions is deprecated. Please use tf.compat.v1.executing_eagerly_outside_functions instead.\n",
            "\n"
          ]
        }
      ],
      "source": [
        "# Load the saved model\n",
        "model = load_model('MyBestModel.h5')\n"
      ]
    },
    {
      "cell_type": "code",
      "execution_count": null,
      "id": "692d1294-a8cb-4cd5-be69-fb69d0b5ba69",
      "metadata": {
        "id": "692d1294-a8cb-4cd5-be69-fb69d0b5ba69",
        "outputId": "3fb7fce7-7af6-4a74-f833-38aba7ea2940"
      },
      "outputs": [
        {
          "name": "stdout",
          "output_type": "stream",
          "text": [
            "Model: \"sequential\"\n",
            "_________________________________________________________________\n",
            " Layer (type)                Output Shape              Param #   \n",
            "=================================================================\n",
            " dense (Dense)               (None, 100)               4100      \n",
            "                                                                 \n",
            " activation (Activation)     (None, 100)               0         \n",
            "                                                                 \n",
            " dropout (Dropout)           (None, 100)               0         \n",
            "                                                                 \n",
            " dense_1 (Dense)             (None, 200)               20200     \n",
            "                                                                 \n",
            " activation_1 (Activation)   (None, 200)               0         \n",
            "                                                                 \n",
            " dropout_1 (Dropout)         (None, 200)               0         \n",
            "                                                                 \n",
            " dense_2 (Dense)             (None, 100)               20100     \n",
            "                                                                 \n",
            " activation_2 (Activation)   (None, 100)               0         \n",
            "                                                                 \n",
            " dropout_2 (Dropout)         (None, 100)               0         \n",
            "                                                                 \n",
            " dense_3 (Dense)             (None, 6)                 606       \n",
            "                                                                 \n",
            " activation_3 (Activation)   (None, 6)                 0         \n",
            "                                                                 \n",
            "=================================================================\n",
            "Total params: 45006 (175.80 KB)\n",
            "Trainable params: 45006 (175.80 KB)\n",
            "Non-trainable params: 0 (0.00 Byte)\n",
            "_________________________________________________________________\n"
          ]
        }
      ],
      "source": [
        "model.summary()"
      ]
    },
    {
      "cell_type": "code",
      "execution_count": null,
      "id": "94f62bbc-0b38-490f-a29a-9690eaf9bb5f",
      "metadata": {
        "id": "94f62bbc-0b38-490f-a29a-9690eaf9bb5f"
      },
      "outputs": [],
      "source": [
        "def features_extractor(file):\n",
        "    try:\n",
        "        audio, sample_rate = librosa.load(file)\n",
        "        mfccs_features = librosa.feature.mfcc(y=audio, sr=sample_rate, n_mfcc=40)\n",
        "        mfccs_scaled_features = np.mean(mfccs_features.T, axis=0)\n",
        "        return mfccs_scaled_features\n",
        "    except Exception as e:\n",
        "        print(f\"Error processing {file}: {e}\")\n",
        "        return None"
      ]
    },
    {
      "cell_type": "code",
      "execution_count": null,
      "id": "eb7d28a8-1ca2-42b2-b07e-9558aabb2b05",
      "metadata": {
        "id": "eb7d28a8-1ca2-42b2-b07e-9558aabb2b05"
      },
      "outputs": [],
      "source": [
        "from tqdm import tqdm\n",
        "import os\n",
        "import pandas as pd"
      ]
    },
    {
      "cell_type": "code",
      "execution_count": null,
      "id": "9d08c480-1e6c-4b41-95a1-4e6d1753f1e5",
      "metadata": {
        "id": "9d08c480-1e6c-4b41-95a1-4e6d1753f1e5"
      },
      "outputs": [],
      "source": [
        "extracted_features = []\n",
        "\n",
        "root_dir = \"C:\\\\Users\\\\sagol\\\\Desktop\\\\6_class_UrbanSound\"\n",
        "testing_folder = os.path.join(root_dir, \"testing\")"
      ]
    },
    {
      "cell_type": "code",
      "execution_count": null,
      "id": "b63d5d0e-e666-4a3a-b89c-c4bd842e9bff",
      "metadata": {
        "id": "b63d5d0e-e666-4a3a-b89c-c4bd842e9bff",
        "outputId": "2693e956-99c2-477f-e289-3baafc71473c"
      },
      "outputs": [
        {
          "name": "stdout",
          "output_type": "stream",
          "text": [
            "testing_folder: C:\\Users\\sagol\\Desktop\\6_class_UrbanSound\\testing\n"
          ]
        }
      ],
      "source": [
        "print(f\"testing_folder: {testing_folder}\")\n",
        "\n",
        "if not os.path.exists(testing_folder):\n",
        "    raise FileNotFoundError(f\"The directory {testing_folder} does not exist\")"
      ]
    },
    {
      "cell_type": "code",
      "execution_count": null,
      "id": "9d7afa8f-a830-4cc9-9654-1806a6ab53e0",
      "metadata": {
        "id": "9d7afa8f-a830-4cc9-9654-1806a6ab53e0",
        "outputId": "f4addc91-0e54-487c-8ab2-df54c88895ca"
      },
      "outputs": [
        {
          "name": "stderr",
          "output_type": "stream",
          "text": [
            "100%|████████████████████████████████████████████████████████████████████████████████| 100/100 [00:09<00:00, 10.33it/s]\n",
            "100%|████████████████████████████████████████████████████████████████████████████████| 100/100 [00:05<00:00, 18.54it/s]\n",
            "100%|████████████████████████████████████████████████████████████████████████████████| 100/100 [00:05<00:00, 19.26it/s]\n",
            "100%|████████████████████████████████████████████████████████████████████████████████| 100/100 [00:05<00:00, 17.99it/s]\n",
            "100%|████████████████████████████████████████████████████████████████████████████████| 100/100 [00:05<00:00, 18.66it/s]\n",
            "100%|████████████████████████████████████████████████████████████████████████████████| 100/100 [00:05<00:00, 18.37it/s]\n"
          ]
        }
      ],
      "source": [
        "# Iterate over each class folder in testing_folder\n",
        "for class_folder in os.listdir(testing_folder):\n",
        "    class_folder_path = os.path.join(testing_folder, class_folder)\n",
        "    if not os.path.isdir(class_folder_path):\n",
        "        continue\n",
        "\n",
        "    # Iterate over each file in the class folder\n",
        "    for file_name in tqdm(os.listdir(class_folder_path)):\n",
        "        if file_name.endswith(\".wav\"):\n",
        "            file_path = os.path.join(class_folder_path, file_name)\n",
        "            if not os.path.exists(file_path):\n",
        "                print(f\"File not found: {file_path}\")\n",
        "                continue\n",
        "            mfcc_features = features_extractor(file_path)\n",
        "            if mfcc_features is not None:\n",
        "                extracted_features.append([mfcc_features, class_folder])"
      ]
    },
    {
      "cell_type": "code",
      "execution_count": null,
      "id": "586212dc-deb2-46f4-8e0e-9e56d1908e16",
      "metadata": {
        "id": "586212dc-deb2-46f4-8e0e-9e56d1908e16",
        "outputId": "80df9cb2-d855-4451-e4b7-c0cd98bc65c2"
      },
      "outputs": [
        {
          "name": "stdout",
          "output_type": "stream",
          "text": [
            "                                             feature             class\n",
            "0  [-147.36783, 121.828285, -46.286182, 14.459111...  children_playing\n",
            "1  [-360.1792, 95.70233, -6.017984, 24.469078, -6...  children_playing\n",
            "2  [-318.04932, 96.366745, -21.3001, 31.285997, -...  children_playing\n",
            "3  [-213.2857, 92.11883, -56.96604, 2.757911, -21...  children_playing\n",
            "4  [-271.81354, 116.280975, -24.945625, 6.196038,...  children_playing\n"
          ]
        }
      ],
      "source": [
        "# Convert the list of extracted features to a Pandas DataFrame\n",
        "extracted_features_df = pd.DataFrame(extracted_features, columns=['feature', 'class'])\n",
        "print(extracted_features_df.head())"
      ]
    },
    {
      "cell_type": "code",
      "execution_count": null,
      "id": "22c92b64-28f1-4c67-a309-272297d6ac4f",
      "metadata": {
        "id": "22c92b64-28f1-4c67-a309-272297d6ac4f"
      },
      "outputs": [],
      "source": [
        "### Split the dataset into independent and dependent dataset\n",
        "X=np.array(extracted_features_df['feature'].tolist())\n",
        "y=np.array(extracted_features_df['class'].tolist())"
      ]
    },
    {
      "cell_type": "code",
      "execution_count": null,
      "id": "2722578b-2e37-42e6-8385-a9ecd04ee87c",
      "metadata": {
        "id": "2722578b-2e37-42e6-8385-a9ecd04ee87c",
        "outputId": "af78d503-e526-4d1c-e79a-09baae82b2db"
      },
      "outputs": [
        {
          "data": {
            "text/plain": [
              "array(['children_playing', 'children_playing', 'children_playing',\n",
              "       'children_playing', 'children_playing', 'children_playing',\n",
              "       'children_playing', 'children_playing', 'children_playing',\n",
              "       'children_playing', 'children_playing', 'children_playing',\n",
              "       'children_playing', 'children_playing', 'children_playing',\n",
              "       'children_playing', 'children_playing', 'children_playing',\n",
              "       'children_playing', 'children_playing', 'children_playing',\n",
              "       'children_playing', 'children_playing', 'children_playing',\n",
              "       'children_playing', 'children_playing', 'children_playing',\n",
              "       'children_playing', 'children_playing', 'children_playing',\n",
              "       'children_playing', 'children_playing', 'children_playing',\n",
              "       'children_playing', 'children_playing', 'children_playing',\n",
              "       'children_playing', 'children_playing', 'children_playing',\n",
              "       'children_playing', 'children_playing', 'children_playing',\n",
              "       'children_playing', 'children_playing', 'children_playing',\n",
              "       'children_playing', 'children_playing', 'children_playing',\n",
              "       'children_playing', 'children_playing', 'children_playing',\n",
              "       'children_playing', 'children_playing', 'children_playing',\n",
              "       'children_playing', 'children_playing', 'children_playing',\n",
              "       'children_playing', 'children_playing', 'children_playing',\n",
              "       'children_playing', 'children_playing', 'children_playing',\n",
              "       'children_playing', 'children_playing', 'children_playing',\n",
              "       'children_playing', 'children_playing', 'children_playing',\n",
              "       'children_playing', 'children_playing', 'children_playing',\n",
              "       'children_playing', 'children_playing', 'children_playing',\n",
              "       'children_playing', 'children_playing', 'children_playing',\n",
              "       'children_playing', 'children_playing', 'children_playing',\n",
              "       'children_playing', 'children_playing', 'children_playing',\n",
              "       'children_playing', 'children_playing', 'children_playing',\n",
              "       'children_playing', 'children_playing', 'children_playing',\n",
              "       'children_playing', 'children_playing', 'children_playing',\n",
              "       'children_playing', 'children_playing', 'children_playing',\n",
              "       'children_playing', 'children_playing', 'children_playing',\n",
              "       'children_playing', 'dog_barking', 'dog_barking', 'dog_barking',\n",
              "       'dog_barking', 'dog_barking', 'dog_barking', 'dog_barking',\n",
              "       'dog_barking', 'dog_barking', 'dog_barking', 'dog_barking',\n",
              "       'dog_barking', 'dog_barking', 'dog_barking', 'dog_barking',\n",
              "       'dog_barking', 'dog_barking', 'dog_barking', 'dog_barking',\n",
              "       'dog_barking', 'dog_barking', 'dog_barking', 'dog_barking',\n",
              "       'dog_barking', 'dog_barking', 'dog_barking', 'dog_barking',\n",
              "       'dog_barking', 'dog_barking', 'dog_barking', 'dog_barking',\n",
              "       'dog_barking', 'dog_barking', 'dog_barking', 'dog_barking',\n",
              "       'dog_barking', 'dog_barking', 'dog_barking', 'dog_barking',\n",
              "       'dog_barking', 'dog_barking', 'dog_barking', 'dog_barking',\n",
              "       'dog_barking', 'dog_barking', 'dog_barking', 'dog_barking',\n",
              "       'dog_barking', 'dog_barking', 'dog_barking', 'dog_barking',\n",
              "       'dog_barking', 'dog_barking', 'dog_barking', 'dog_barking',\n",
              "       'dog_barking', 'dog_barking', 'dog_barking', 'dog_barking',\n",
              "       'dog_barking', 'dog_barking', 'dog_barking', 'dog_barking',\n",
              "       'dog_barking', 'dog_barking', 'dog_barking', 'dog_barking',\n",
              "       'dog_barking', 'dog_barking', 'dog_barking', 'dog_barking',\n",
              "       'dog_barking', 'dog_barking', 'dog_barking', 'dog_barking',\n",
              "       'dog_barking', 'dog_barking', 'dog_barking', 'dog_barking',\n",
              "       'dog_barking', 'dog_barking', 'dog_barking', 'dog_barking',\n",
              "       'dog_barking', 'dog_barking', 'dog_barking', 'dog_barking',\n",
              "       'dog_barking', 'dog_barking', 'dog_barking', 'dog_barking',\n",
              "       'dog_barking', 'dog_barking', 'dog_barking', 'dog_barking',\n",
              "       'dog_barking', 'dog_barking', 'dog_barking', 'dog_barking',\n",
              "       'dog_barking', 'drilling', 'drilling', 'drilling', 'drilling',\n",
              "       'drilling', 'drilling', 'drilling', 'drilling', 'drilling',\n",
              "       'drilling', 'drilling', 'drilling', 'drilling', 'drilling',\n",
              "       'drilling', 'drilling', 'drilling', 'drilling', 'drilling',\n",
              "       'drilling', 'drilling', 'drilling', 'drilling', 'drilling',\n",
              "       'drilling', 'drilling', 'drilling', 'drilling', 'drilling',\n",
              "       'drilling', 'drilling', 'drilling', 'drilling', 'drilling',\n",
              "       'drilling', 'drilling', 'drilling', 'drilling', 'drilling',\n",
              "       'drilling', 'drilling', 'drilling', 'drilling', 'drilling',\n",
              "       'drilling', 'drilling', 'drilling', 'drilling', 'drilling',\n",
              "       'drilling', 'drilling', 'drilling', 'drilling', 'drilling',\n",
              "       'drilling', 'drilling', 'drilling', 'drilling', 'drilling',\n",
              "       'drilling', 'drilling', 'drilling', 'drilling', 'drilling',\n",
              "       'drilling', 'drilling', 'drilling', 'drilling', 'drilling',\n",
              "       'drilling', 'drilling', 'drilling', 'drilling', 'drilling',\n",
              "       'drilling', 'drilling', 'drilling', 'drilling', 'drilling',\n",
              "       'drilling', 'drilling', 'drilling', 'drilling', 'drilling',\n",
              "       'drilling', 'drilling', 'drilling', 'drilling', 'drilling',\n",
              "       'drilling', 'drilling', 'drilling', 'drilling', 'drilling',\n",
              "       'drilling', 'drilling', 'drilling', 'drilling', 'drilling',\n",
              "       'drilling', 'jackhammer', 'jackhammer', 'jackhammer', 'jackhammer',\n",
              "       'jackhammer', 'jackhammer', 'jackhammer', 'jackhammer',\n",
              "       'jackhammer', 'jackhammer', 'jackhammer', 'jackhammer',\n",
              "       'jackhammer', 'jackhammer', 'jackhammer', 'jackhammer',\n",
              "       'jackhammer', 'jackhammer', 'jackhammer', 'jackhammer',\n",
              "       'jackhammer', 'jackhammer', 'jackhammer', 'jackhammer',\n",
              "       'jackhammer', 'jackhammer', 'jackhammer', 'jackhammer',\n",
              "       'jackhammer', 'jackhammer', 'jackhammer', 'jackhammer',\n",
              "       'jackhammer', 'jackhammer', 'jackhammer', 'jackhammer',\n",
              "       'jackhammer', 'jackhammer', 'jackhammer', 'jackhammer',\n",
              "       'jackhammer', 'jackhammer', 'jackhammer', 'jackhammer',\n",
              "       'jackhammer', 'jackhammer', 'jackhammer', 'jackhammer',\n",
              "       'jackhammer', 'jackhammer', 'jackhammer', 'jackhammer',\n",
              "       'jackhammer', 'jackhammer', 'jackhammer', 'jackhammer',\n",
              "       'jackhammer', 'jackhammer', 'jackhammer', 'jackhammer',\n",
              "       'jackhammer', 'jackhammer', 'jackhammer', 'jackhammer',\n",
              "       'jackhammer', 'jackhammer', 'jackhammer', 'jackhammer',\n",
              "       'jackhammer', 'jackhammer', 'jackhammer', 'jackhammer',\n",
              "       'jackhammer', 'jackhammer', 'jackhammer', 'jackhammer',\n",
              "       'jackhammer', 'jackhammer', 'jackhammer', 'jackhammer',\n",
              "       'jackhammer', 'jackhammer', 'jackhammer', 'jackhammer',\n",
              "       'jackhammer', 'jackhammer', 'jackhammer', 'jackhammer',\n",
              "       'jackhammer', 'jackhammer', 'jackhammer', 'jackhammer',\n",
              "       'jackhammer', 'jackhammer', 'jackhammer', 'jackhammer',\n",
              "       'jackhammer', 'jackhammer', 'jackhammer', 'jackhammer', 'siren',\n",
              "       'siren', 'siren', 'siren', 'siren', 'siren', 'siren', 'siren',\n",
              "       'siren', 'siren', 'siren', 'siren', 'siren', 'siren', 'siren',\n",
              "       'siren', 'siren', 'siren', 'siren', 'siren', 'siren', 'siren',\n",
              "       'siren', 'siren', 'siren', 'siren', 'siren', 'siren', 'siren',\n",
              "       'siren', 'siren', 'siren', 'siren', 'siren', 'siren', 'siren',\n",
              "       'siren', 'siren', 'siren', 'siren', 'siren', 'siren', 'siren',\n",
              "       'siren', 'siren', 'siren', 'siren', 'siren', 'siren', 'siren',\n",
              "       'siren', 'siren', 'siren', 'siren', 'siren', 'siren', 'siren',\n",
              "       'siren', 'siren', 'siren', 'siren', 'siren', 'siren', 'siren',\n",
              "       'siren', 'siren', 'siren', 'siren', 'siren', 'siren', 'siren',\n",
              "       'siren', 'siren', 'siren', 'siren', 'siren', 'siren', 'siren',\n",
              "       'siren', 'siren', 'siren', 'siren', 'siren', 'siren', 'siren',\n",
              "       'siren', 'siren', 'siren', 'siren', 'siren', 'siren', 'siren',\n",
              "       'siren', 'siren', 'siren', 'siren', 'siren', 'siren', 'siren',\n",
              "       'siren', 'street_music', 'street_music', 'street_music',\n",
              "       'street_music', 'street_music', 'street_music', 'street_music',\n",
              "       'street_music', 'street_music', 'street_music', 'street_music',\n",
              "       'street_music', 'street_music', 'street_music', 'street_music',\n",
              "       'street_music', 'street_music', 'street_music', 'street_music',\n",
              "       'street_music', 'street_music', 'street_music', 'street_music',\n",
              "       'street_music', 'street_music', 'street_music', 'street_music',\n",
              "       'street_music', 'street_music', 'street_music', 'street_music',\n",
              "       'street_music', 'street_music', 'street_music', 'street_music',\n",
              "       'street_music', 'street_music', 'street_music', 'street_music',\n",
              "       'street_music', 'street_music', 'street_music', 'street_music',\n",
              "       'street_music', 'street_music', 'street_music', 'street_music',\n",
              "       'street_music', 'street_music', 'street_music', 'street_music',\n",
              "       'street_music', 'street_music', 'street_music', 'street_music',\n",
              "       'street_music', 'street_music', 'street_music', 'street_music',\n",
              "       'street_music', 'street_music', 'street_music', 'street_music',\n",
              "       'street_music', 'street_music', 'street_music', 'street_music',\n",
              "       'street_music', 'street_music', 'street_music', 'street_music',\n",
              "       'street_music', 'street_music', 'street_music', 'street_music',\n",
              "       'street_music', 'street_music', 'street_music', 'street_music',\n",
              "       'street_music', 'street_music', 'street_music', 'street_music',\n",
              "       'street_music', 'street_music', 'street_music', 'street_music',\n",
              "       'street_music', 'street_music', 'street_music', 'street_music',\n",
              "       'street_music', 'street_music', 'street_music', 'street_music',\n",
              "       'street_music', 'street_music', 'street_music', 'street_music',\n",
              "       'street_music'], dtype='<U16')"
            ]
          },
          "execution_count": 12,
          "metadata": {},
          "output_type": "execute_result"
        }
      ],
      "source": [
        "y"
      ]
    },
    {
      "cell_type": "code",
      "execution_count": null,
      "id": "4e685b9a-907d-4df0-a795-9b54ad3b2275",
      "metadata": {
        "id": "4e685b9a-907d-4df0-a795-9b54ad3b2275",
        "outputId": "a340db48-41f6-4442-b192-2ceee01c9890"
      },
      "outputs": [
        {
          "data": {
            "text/plain": [
              "array([[-1.47367828e+02,  1.21828285e+02, -4.62861824e+01, ...,\n",
              "        -1.61286438e+00, -1.10419428e+00,  4.32633352e+00],\n",
              "       [-3.60179199e+02,  9.57023315e+01, -6.01798391e+00, ...,\n",
              "         1.17551243e+00, -2.80023837e+00, -1.06207490e+00],\n",
              "       [-3.18049316e+02,  9.63667450e+01, -2.13001003e+01, ...,\n",
              "         1.54810739e+00, -1.80050778e+00,  3.04398596e-01],\n",
              "       ...,\n",
              "       [-4.87658386e+01,  1.08222000e+02, -2.54500842e+00, ...,\n",
              "         2.36334085e+00, -3.69305921e+00, -2.06864929e+00],\n",
              "       [-9.31007538e+01,  1.06950943e+02, -1.13370075e+01, ...,\n",
              "        -1.88281015e-01, -8.79353106e-01,  2.60896087e+00],\n",
              "       [-1.83424606e+02,  1.41678055e+02, -9.49184608e+00, ...,\n",
              "        -3.26884508e+00, -2.97768188e+00, -3.27883363e+00]], dtype=float32)"
            ]
          },
          "execution_count": 13,
          "metadata": {},
          "output_type": "execute_result"
        }
      ],
      "source": [
        "X"
      ]
    },
    {
      "cell_type": "code",
      "execution_count": null,
      "id": "606d5aef-9f8a-4ae9-b0db-69f034052d16",
      "metadata": {
        "id": "606d5aef-9f8a-4ae9-b0db-69f034052d16",
        "outputId": "5a1f2efd-1fc1-46ba-c4ea-c31832c0979d"
      },
      "outputs": [
        {
          "data": {
            "text/plain": [
              "(600, 40)"
            ]
          },
          "execution_count": 14,
          "metadata": {},
          "output_type": "execute_result"
        }
      ],
      "source": [
        "X.shape"
      ]
    },
    {
      "cell_type": "code",
      "execution_count": null,
      "id": "590e8858-6573-466a-9f51-05616429f1d5",
      "metadata": {
        "id": "590e8858-6573-466a-9f51-05616429f1d5",
        "outputId": "c2cb5422-47af-4a39-d701-f81d76adf263"
      },
      "outputs": [
        {
          "data": {
            "text/plain": [
              "(600, 6)"
            ]
          },
          "execution_count": 15,
          "metadata": {},
          "output_type": "execute_result"
        }
      ],
      "source": [
        "y=np.array(pd.get_dummies(y))\n",
        "y.shape"
      ]
    },
    {
      "cell_type": "code",
      "execution_count": null,
      "id": "00b0ff7e-a188-45ed-83ff-138e0e2c3eb8",
      "metadata": {
        "id": "00b0ff7e-a188-45ed-83ff-138e0e2c3eb8",
        "outputId": "ecdb291c-1c14-41c8-d546-ad1a93065a4a"
      },
      "outputs": [
        {
          "data": {
            "text/plain": [
              "array([[1, 0, 0, 0, 0, 0],\n",
              "       [1, 0, 0, 0, 0, 0],\n",
              "       [1, 0, 0, 0, 0, 0],\n",
              "       ...,\n",
              "       [0, 0, 0, 0, 0, 1],\n",
              "       [0, 0, 0, 0, 0, 1],\n",
              "       [0, 0, 0, 0, 0, 1]], dtype=uint8)"
            ]
          },
          "execution_count": 16,
          "metadata": {},
          "output_type": "execute_result"
        }
      ],
      "source": [
        "y"
      ]
    },
    {
      "cell_type": "code",
      "execution_count": null,
      "id": "a997ef47-37ba-4071-9a70-f395b08a8d3e",
      "metadata": {
        "id": "a997ef47-37ba-4071-9a70-f395b08a8d3e"
      },
      "outputs": [],
      "source": [
        "# Convert one-hot encoded array to labels\n",
        "y_labels = np.argmax(y, axis=1) + 1"
      ]
    },
    {
      "cell_type": "code",
      "execution_count": null,
      "id": "52acf6a1-d1b4-49b9-912c-0fe2d8df1778",
      "metadata": {
        "id": "52acf6a1-d1b4-49b9-912c-0fe2d8df1778",
        "outputId": "2fc2fd59-0ae6-4e3e-97f6-f0f3b2c3e036"
      },
      "outputs": [
        {
          "data": {
            "text/plain": [
              "array([1, 1, 1, 1, 1, 1, 1, 1, 1, 1, 1, 1, 1, 1, 1, 1, 1, 1, 1, 1, 1, 1,\n",
              "       1, 1, 1, 1, 1, 1, 1, 1, 1, 1, 1, 1, 1, 1, 1, 1, 1, 1, 1, 1, 1, 1,\n",
              "       1, 1, 1, 1, 1, 1, 1, 1, 1, 1, 1, 1, 1, 1, 1, 1, 1, 1, 1, 1, 1, 1,\n",
              "       1, 1, 1, 1, 1, 1, 1, 1, 1, 1, 1, 1, 1, 1, 1, 1, 1, 1, 1, 1, 1, 1,\n",
              "       1, 1, 1, 1, 1, 1, 1, 1, 1, 1, 1, 1, 2, 2, 2, 2, 2, 2, 2, 2, 2, 2,\n",
              "       2, 2, 2, 2, 2, 2, 2, 2, 2, 2, 2, 2, 2, 2, 2, 2, 2, 2, 2, 2, 2, 2,\n",
              "       2, 2, 2, 2, 2, 2, 2, 2, 2, 2, 2, 2, 2, 2, 2, 2, 2, 2, 2, 2, 2, 2,\n",
              "       2, 2, 2, 2, 2, 2, 2, 2, 2, 2, 2, 2, 2, 2, 2, 2, 2, 2, 2, 2, 2, 2,\n",
              "       2, 2, 2, 2, 2, 2, 2, 2, 2, 2, 2, 2, 2, 2, 2, 2, 2, 2, 2, 2, 2, 2,\n",
              "       2, 2, 3, 3, 3, 3, 3, 3, 3, 3, 3, 3, 3, 3, 3, 3, 3, 3, 3, 3, 3, 3,\n",
              "       3, 3, 3, 3, 3, 3, 3, 3, 3, 3, 3, 3, 3, 3, 3, 3, 3, 3, 3, 3, 3, 3,\n",
              "       3, 3, 3, 3, 3, 3, 3, 3, 3, 3, 3, 3, 3, 3, 3, 3, 3, 3, 3, 3, 3, 3,\n",
              "       3, 3, 3, 3, 3, 3, 3, 3, 3, 3, 3, 3, 3, 3, 3, 3, 3, 3, 3, 3, 3, 3,\n",
              "       3, 3, 3, 3, 3, 3, 3, 3, 3, 3, 3, 3, 3, 3, 4, 4, 4, 4, 4, 4, 4, 4,\n",
              "       4, 4, 4, 4, 4, 4, 4, 4, 4, 4, 4, 4, 4, 4, 4, 4, 4, 4, 4, 4, 4, 4,\n",
              "       4, 4, 4, 4, 4, 4, 4, 4, 4, 4, 4, 4, 4, 4, 4, 4, 4, 4, 4, 4, 4, 4,\n",
              "       4, 4, 4, 4, 4, 4, 4, 4, 4, 4, 4, 4, 4, 4, 4, 4, 4, 4, 4, 4, 4, 4,\n",
              "       4, 4, 4, 4, 4, 4, 4, 4, 4, 4, 4, 4, 4, 4, 4, 4, 4, 4, 4, 4, 4, 4,\n",
              "       4, 4, 4, 4, 5, 5, 5, 5, 5, 5, 5, 5, 5, 5, 5, 5, 5, 5, 5, 5, 5, 5,\n",
              "       5, 5, 5, 5, 5, 5, 5, 5, 5, 5, 5, 5, 5, 5, 5, 5, 5, 5, 5, 5, 5, 5,\n",
              "       5, 5, 5, 5, 5, 5, 5, 5, 5, 5, 5, 5, 5, 5, 5, 5, 5, 5, 5, 5, 5, 5,\n",
              "       5, 5, 5, 5, 5, 5, 5, 5, 5, 5, 5, 5, 5, 5, 5, 5, 5, 5, 5, 5, 5, 5,\n",
              "       5, 5, 5, 5, 5, 5, 5, 5, 5, 5, 5, 5, 5, 5, 5, 5, 6, 6, 6, 6, 6, 6,\n",
              "       6, 6, 6, 6, 6, 6, 6, 6, 6, 6, 6, 6, 6, 6, 6, 6, 6, 6, 6, 6, 6, 6,\n",
              "       6, 6, 6, 6, 6, 6, 6, 6, 6, 6, 6, 6, 6, 6, 6, 6, 6, 6, 6, 6, 6, 6,\n",
              "       6, 6, 6, 6, 6, 6, 6, 6, 6, 6, 6, 6, 6, 6, 6, 6, 6, 6, 6, 6, 6, 6,\n",
              "       6, 6, 6, 6, 6, 6, 6, 6, 6, 6, 6, 6, 6, 6, 6, 6, 6, 6, 6, 6, 6, 6,\n",
              "       6, 6, 6, 6, 6, 6], dtype=int64)"
            ]
          },
          "execution_count": 26,
          "metadata": {},
          "output_type": "execute_result"
        }
      ],
      "source": [
        "y_labels"
      ]
    },
    {
      "cell_type": "code",
      "execution_count": null,
      "id": "1c038c31-127c-4289-852f-6c9ec0701ea1",
      "metadata": {
        "id": "1c038c31-127c-4289-852f-6c9ec0701ea1",
        "outputId": "7470a2c5-2f9b-4d74-cc4e-68214814013e"
      },
      "outputs": [
        {
          "name": "stdout",
          "output_type": "stream",
          "text": [
            "19/19 [==============================] - 0s 4ms/step\n"
          ]
        }
      ],
      "source": [
        "# Make predictions\n",
        "y_pred = np.argmax(model.predict(X), axis=-1) +1"
      ]
    },
    {
      "cell_type": "code",
      "execution_count": null,
      "id": "ddb79321-dadb-434b-aff2-b6361384da6d",
      "metadata": {
        "id": "ddb79321-dadb-434b-aff2-b6361384da6d",
        "outputId": "66d5a05c-8a57-4287-d614-cecb93e699cf"
      },
      "outputs": [
        {
          "data": {
            "text/plain": [
              "array([1, 1, 1, 1, 1, 1, 1, 1, 1, 1, 1, 1, 1, 1, 2, 1, 1, 1, 1, 1, 1, 1,\n",
              "       1, 1, 1, 1, 1, 1, 1, 1, 6, 2, 1, 1, 1, 1, 1, 1, 1, 1, 1, 1, 1, 1,\n",
              "       1, 1, 1, 1, 1, 1, 2, 1, 1, 5, 1, 1, 1, 1, 1, 1, 1, 1, 1, 1, 1, 1,\n",
              "       1, 1, 1, 1, 1, 1, 6, 5, 1, 1, 1, 1, 1, 1, 1, 1, 1, 1, 1, 1, 1, 1,\n",
              "       1, 1, 1, 1, 1, 1, 1, 1, 1, 1, 1, 1, 2, 2, 1, 6, 2, 2, 2, 2, 2, 5,\n",
              "       2, 2, 2, 2, 2, 2, 2, 2, 2, 2, 2, 2, 2, 2, 2, 2, 2, 2, 2, 2, 2, 2,\n",
              "       2, 2, 2, 2, 2, 2, 2, 2, 2, 2, 2, 2, 2, 2, 2, 2, 2, 2, 2, 5, 2, 2,\n",
              "       1, 2, 2, 4, 2, 2, 2, 2, 2, 2, 2, 2, 1, 2, 2, 1, 2, 2, 2, 2, 2, 2,\n",
              "       2, 2, 2, 2, 2, 2, 2, 1, 2, 2, 6, 6, 2, 1, 2, 1, 2, 2, 2, 5, 2, 2,\n",
              "       5, 2, 3, 3, 3, 3, 3, 3, 3, 3, 3, 6, 3, 3, 3, 3, 3, 3, 3, 3, 3, 3,\n",
              "       3, 3, 3, 3, 3, 3, 3, 3, 3, 3, 3, 3, 3, 3, 1, 3, 3, 1, 3, 3, 3, 3,\n",
              "       3, 3, 3, 3, 3, 3, 3, 3, 3, 3, 3, 3, 3, 3, 3, 3, 3, 3, 3, 3, 3, 3,\n",
              "       3, 3, 3, 3, 3, 3, 3, 3, 3, 3, 3, 3, 3, 3, 3, 3, 3, 3, 2, 2, 3, 3,\n",
              "       3, 3, 3, 3, 3, 3, 4, 4, 3, 3, 3, 3, 3, 3, 4, 4, 4, 4, 4, 4, 4, 4,\n",
              "       4, 4, 4, 4, 4, 4, 4, 4, 4, 4, 4, 4, 4, 4, 4, 4, 4, 4, 4, 4, 4, 4,\n",
              "       4, 4, 4, 4, 4, 4, 4, 4, 4, 4, 4, 4, 4, 4, 4, 4, 4, 4, 4, 4, 4, 4,\n",
              "       4, 4, 4, 4, 4, 4, 4, 4, 4, 4, 4, 4, 4, 4, 4, 4, 4, 4, 4, 4, 4, 4,\n",
              "       4, 4, 4, 4, 4, 4, 4, 4, 4, 4, 4, 4, 4, 4, 1, 4, 4, 4, 4, 4, 4, 3,\n",
              "       3, 4, 4, 4, 5, 5, 5, 5, 5, 5, 5, 5, 5, 5, 5, 5, 5, 5, 5, 5, 5, 5,\n",
              "       5, 5, 5, 5, 5, 5, 5, 5, 5, 5, 5, 5, 5, 5, 5, 5, 5, 5, 5, 5, 5, 5,\n",
              "       5, 5, 5, 5, 5, 5, 5, 5, 1, 5, 5, 5, 2, 5, 5, 5, 5, 5, 5, 5, 5, 5,\n",
              "       5, 5, 5, 5, 5, 5, 5, 2, 2, 1, 5, 1, 5, 5, 5, 5, 5, 5, 5, 5, 5, 5,\n",
              "       5, 5, 5, 5, 5, 5, 5, 5, 5, 5, 4, 5, 5, 5, 5, 5, 2, 6, 1, 6, 6, 6,\n",
              "       6, 6, 6, 6, 6, 6, 6, 1, 1, 6, 6, 1, 1, 1, 1, 6, 6, 6, 6, 4, 6, 6,\n",
              "       6, 6, 6, 6, 6, 6, 6, 6, 6, 6, 6, 6, 6, 1, 6, 6, 6, 6, 1, 6, 6, 6,\n",
              "       6, 6, 1, 6, 2, 5, 5, 6, 4, 4, 4, 6, 1, 1, 6, 6, 6, 6, 6, 6, 1, 6,\n",
              "       5, 1, 6, 6, 6, 1, 6, 6, 6, 6, 6, 6, 6, 6, 6, 6, 6, 6, 6, 6, 6, 6,\n",
              "       6, 6, 6, 3, 6, 6], dtype=int64)"
            ]
          },
          "execution_count": 21,
          "metadata": {},
          "output_type": "execute_result"
        }
      ],
      "source": [
        "y_pred"
      ]
    },
    {
      "cell_type": "code",
      "execution_count": null,
      "id": "0dc6e669-14f4-401d-b500-c402f9819df4",
      "metadata": {
        "id": "0dc6e669-14f4-401d-b500-c402f9819df4",
        "outputId": "a1a51c27-1305-481d-c877-44338085ed9a"
      },
      "outputs": [
        {
          "data": {
            "image/png": "[encoded data removed]",
            "text/plain": [
              "<Figure size 600x600 with 2 Axes>"
            ]
          },
          "metadata": {},
          "output_type": "display_data"
        }
      ],
      "source": [
        "conf_matrix = confusion_matrix(y_labels, y_pred)\n",
        "\n",
        "# Plot confusion matrix\n",
        "plt.figure(figsize=(6, 6))\n",
        "sns.heatmap(conf_matrix, annot=True, fmt='d', cmap='Blues', xticklabels=['children_playing ', 'dog_barking', 'drilling ', 'jackhammer', 'siren', 'street_music'], yticklabels=['children_playing ', 'dog_barking', 'drilling ', 'jackhammer', 'siren', 'street_music'])\n",
        "plt.xlabel('Predicted labels')\n",
        "plt.ylabel('True labels')\n",
        "plt.title('Confusion Matrix')\n",
        "plt.show()"
      ]
    },
    {
      "cell_type": "code",
      "execution_count": null,
      "id": "45b078a7-0898-4fca-868c-6620e3666c31",
      "metadata": {
        "id": "45b078a7-0898-4fca-868c-6620e3666c31"
      },
      "outputs": [],
      "source": []
    }
  ],
  "metadata": {
    "kernelspec": {
      "display_name": "Python 3 (ipykernel)",
      "language": "python",
      "name": "python3"
    },
    "language_info": {
      "codemirror_mode": {
        "name": "ipython",
        "version": 3
      },
      "file_extension": ".py",
      "mimetype": "text/x-python",
      "name": "python",
      "nbconvert_exporter": "python",
      "pygments_lexer": "ipython3",
      "version": "3.11.1"
    },
    "colab": {
      "provenance": [],
      "include_colab_link": true
    }
  },
  "nbformat": 4,
  "nbformat_minor": 5
}